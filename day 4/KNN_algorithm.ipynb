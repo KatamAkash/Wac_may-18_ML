{
  "nbformat": 4,
  "nbformat_minor": 0,
  "metadata": {
    "kernelspec": {
      "display_name": "Python 3",
      "language": "python",
      "name": "python3"
    },
    "language_info": {
      "codemirror_mode": {
        "name": "ipython",
        "version": 3
      },
      "file_extension": ".py",
      "mimetype": "text/x-python",
      "name": "python",
      "nbconvert_exporter": "python",
      "pygments_lexer": "ipython3",
      "version": "3.7.6"
    },
    "colab": {
      "name": "KNN algorithm.ipynb",
      "provenance": []
    },
    "accelerator": "GPU"
  },
  "cells": [
    {
      "cell_type": "code",
      "metadata": {
        "id": "IZBtUEqiMEo9",
        "colab_type": "code",
        "colab": {}
      },
      "source": [
        "import pandas as pd\n",
        "import numpy as np\n",
        "import matplotlib.pyplot as plt"
      ],
      "execution_count": 0,
      "outputs": []
    },
    {
      "cell_type": "code",
      "metadata": {
        "id": "P-wlnCTMMEpE",
        "colab_type": "code",
        "colab": {}
      },
      "source": [
        "X = pd.read_csv(\"xdata.csv\", header=None)\n",
        "Y = pd.read_csv(\"ydata.csv\", header=None)"
      ],
      "execution_count": 0,
      "outputs": []
    },
    {
      "cell_type": "code",
      "metadata": {
        "id": "S8iJr9pxMYU5",
        "colab_type": "code",
        "outputId": "738c2a9c-a480-4b57-fec7-66f583a76dfb",
        "colab": {
          "base_uri": "https://localhost:8080/",
          "height": 195
        }
      },
      "source": [
        "X.columns = [\"S.no\", 'x1', \"x2\"]\n",
        "X.head()"
      ],
      "execution_count": 0,
      "outputs": [
        {
          "output_type": "execute_result",
          "data": {
            "text/html": [
              "<div>\n",
              "<style scoped>\n",
              "    .dataframe tbody tr th:only-of-type {\n",
              "        vertical-align: middle;\n",
              "    }\n",
              "\n",
              "    .dataframe tbody tr th {\n",
              "        vertical-align: top;\n",
              "    }\n",
              "\n",
              "    .dataframe thead th {\n",
              "        text-align: right;\n",
              "    }\n",
              "</style>\n",
              "<table border=\"1\" class=\"dataframe\">\n",
              "  <thead>\n",
              "    <tr style=\"text-align: right;\">\n",
              "      <th></th>\n",
              "      <th>S.no</th>\n",
              "      <th>x1</th>\n",
              "      <th>x2</th>\n",
              "    </tr>\n",
              "  </thead>\n",
              "  <tbody>\n",
              "    <tr>\n",
              "      <th>0</th>\n",
              "      <td>0</td>\n",
              "      <td>3.482106</td>\n",
              "      <td>2.420392</td>\n",
              "    </tr>\n",
              "    <tr>\n",
              "      <th>1</th>\n",
              "      <td>1</td>\n",
              "      <td>3.516279</td>\n",
              "      <td>3.719750</td>\n",
              "    </tr>\n",
              "    <tr>\n",
              "      <th>2</th>\n",
              "      <td>2</td>\n",
              "      <td>4.606496</td>\n",
              "      <td>3.414379</td>\n",
              "    </tr>\n",
              "    <tr>\n",
              "      <th>3</th>\n",
              "      <td>3</td>\n",
              "      <td>4.677011</td>\n",
              "      <td>3.047244</td>\n",
              "    </tr>\n",
              "    <tr>\n",
              "      <th>4</th>\n",
              "      <td>4</td>\n",
              "      <td>4.157725</td>\n",
              "      <td>3.138677</td>\n",
              "    </tr>\n",
              "  </tbody>\n",
              "</table>\n",
              "</div>"
            ],
            "text/plain": [
              "   S.no        x1        x2\n",
              "0     0  3.482106  2.420392\n",
              "1     1  3.516279  3.719750\n",
              "2     2  4.606496  3.414379\n",
              "3     3  4.677011  3.047244\n",
              "4     4  4.157725  3.138677"
            ]
          },
          "metadata": {
            "tags": []
          },
          "execution_count": 3
        }
      ]
    },
    {
      "cell_type": "code",
      "metadata": {
        "id": "8r-GS57hNDNU",
        "colab_type": "code",
        "outputId": "1f95c6c0-099e-4d95-e462-8566cbff5f42",
        "colab": {
          "base_uri": "https://localhost:8080/",
          "height": 195
        }
      },
      "source": [
        "Y.columns = [\"S.no\", \"target\"]\n",
        "Y.head()"
      ],
      "execution_count": 0,
      "outputs": [
        {
          "output_type": "execute_result",
          "data": {
            "text/html": [
              "<div>\n",
              "<style scoped>\n",
              "    .dataframe tbody tr th:only-of-type {\n",
              "        vertical-align: middle;\n",
              "    }\n",
              "\n",
              "    .dataframe tbody tr th {\n",
              "        vertical-align: top;\n",
              "    }\n",
              "\n",
              "    .dataframe thead th {\n",
              "        text-align: right;\n",
              "    }\n",
              "</style>\n",
              "<table border=\"1\" class=\"dataframe\">\n",
              "  <thead>\n",
              "    <tr style=\"text-align: right;\">\n",
              "      <th></th>\n",
              "      <th>S.no</th>\n",
              "      <th>target</th>\n",
              "    </tr>\n",
              "  </thead>\n",
              "  <tbody>\n",
              "    <tr>\n",
              "      <th>0</th>\n",
              "      <td>0</td>\n",
              "      <td>0.0</td>\n",
              "    </tr>\n",
              "    <tr>\n",
              "      <th>1</th>\n",
              "      <td>1</td>\n",
              "      <td>0.0</td>\n",
              "    </tr>\n",
              "    <tr>\n",
              "      <th>2</th>\n",
              "      <td>2</td>\n",
              "      <td>0.0</td>\n",
              "    </tr>\n",
              "    <tr>\n",
              "      <th>3</th>\n",
              "      <td>3</td>\n",
              "      <td>0.0</td>\n",
              "    </tr>\n",
              "    <tr>\n",
              "      <th>4</th>\n",
              "      <td>4</td>\n",
              "      <td>0.0</td>\n",
              "    </tr>\n",
              "  </tbody>\n",
              "</table>\n",
              "</div>"
            ],
            "text/plain": [
              "   S.no  target\n",
              "0     0     0.0\n",
              "1     1     0.0\n",
              "2     2     0.0\n",
              "3     3     0.0\n",
              "4     4     0.0"
            ]
          },
          "metadata": {
            "tags": []
          },
          "execution_count": 4
        }
      ]
    },
    {
      "cell_type": "code",
      "metadata": {
        "id": "xH1Ul6IBMEpH",
        "colab_type": "code",
        "outputId": "9d1434cf-74ef-4f2a-9a5b-518e612daba9",
        "colab": {
          "base_uri": "https://localhost:8080/",
          "height": 34
        }
      },
      "source": [
        "X = X.iloc[:, 1:].values\n",
        "Y = Y.iloc[:, 1:].values\n",
        "X.shape , Y.shape"
      ],
      "execution_count": 0,
      "outputs": [
        {
          "output_type": "execute_result",
          "data": {
            "text/plain": [
              "((400, 2), (400, 1))"
            ]
          },
          "metadata": {
            "tags": []
          },
          "execution_count": 5
        }
      ]
    },
    {
      "cell_type": "code",
      "metadata": {
        "id": "hRave46HMEpQ",
        "colab_type": "code",
        "colab": {}
      },
      "source": [
        "# x = pd.read_csv(\"xdata.csv\")"
      ],
      "execution_count": 0,
      "outputs": []
    },
    {
      "cell_type": "code",
      "metadata": {
        "id": "zwDFgzpZMEpV",
        "colab_type": "code",
        "outputId": "c51aeff9-8d96-4902-ba50-cfee017c797a",
        "colab": {
          "base_uri": "https://localhost:8080/",
          "height": 265
        }
      },
      "source": [
        "# (x,y, c)\n",
        "plt.scatter(X[:,0] ,X[: ,1]  , c=Y[:,0])\n",
        "plt.show()"
      ],
      "execution_count": 0,
      "outputs": [
        {
          "output_type": "display_data",
          "data": {
            "image/png": "[encoded data removed]",
            "text/plain": [
              "<Figure size 432x288 with 1 Axes>"
            ]
          },
          "metadata": {
            "tags": [],
            "needs_background": "light"
          }
        }
      ]
    },
    {
      "cell_type": "code",
      "metadata": {
        "id": "L9PWQyX5MEpY",
        "colab_type": "code",
        "outputId": "87147a39-c306-447c-c07e-ae49e867356f",
        "colab": {
          "base_uri": "https://localhost:8080/",
          "height": 265
        }
      },
      "source": [
        "testing_point = np.array([2 , 3])\n",
        "plt.scatter(testing_point[0], testing_point[1], c = \"red\")\n",
        "plt.scatter(X[:,0] ,X[: ,1]  , c=Y[:,0])\n",
        "plt.show()"
      ],
      "execution_count": 0,
      "outputs": [
        {
          "output_type": "display_data",
          "data": {
            "image/png": "[encoded data removed]",
            "text/plain": [
              "<Figure size 432x288 with 1 Axes>"
            ]
          },
          "metadata": {
            "tags": [],
            "needs_background": "light"
          }
        }
      ]
    },
    {
      "cell_type": "code",
      "metadata": {
        "id": "-HIFRTDVMEpc",
        "colab_type": "code",
        "outputId": "8fca8222-eda1-498a-902c-b93054be4512",
        "colab": {
          "base_uri": "https://localhost:8080/",
          "height": 34
        }
      },
      "source": [
        "# for calculating distance \n",
        "def distance(x1 , x2):\n",
        "    return np.sqrt(sum((x1-x2)**2))\n",
        "\n",
        "x1 = np.array(testing_point)\n",
        "x2 = X[0]\n",
        "\n",
        "print(distance(x1 , x2))#2root2\n",
        "\n",
        "# print(x1)\n",
        "# print(x2)\n",
        "# print(sum((x1-x2)**2))\n",
        "# np.sqrt(sum((x1-x2)**2))"
      ],
      "execution_count": 0,
      "outputs": [
        {
          "output_type": "stream",
          "text": [
            "1.5914089983769053\n"
          ],
          "name": "stdout"
        }
      ]
    },
    {
      "cell_type": "code",
      "metadata": {
        "id": "X0ziXo3sSgnp",
        "colab_type": "code",
        "outputId": "e9146b12-5511-47ca-e508-dcd9dbf9c8f7",
        "colab": {
          "base_uri": "https://localhost:8080/",
          "height": 34
        }
      },
      "source": [
        "# a = 3\n",
        "# X[a], Y[a]"
      ],
      "execution_count": 0,
      "outputs": [
        {
          "output_type": "execute_result",
          "data": {
            "text/plain": [
              "(array([4.67701056, 3.04724443]), array([0.]))"
            ]
          },
          "metadata": {
            "tags": []
          },
          "execution_count": 28
        }
      ]
    },
    {
      "cell_type": "code",
      "metadata": {
        "id": "-LdaJXbTMEpi",
        "colab_type": "code",
        "outputId": "51909253-b990-4152-f867-233927c6bff2",
        "colab": {
          "base_uri": "https://localhost:8080/",
          "height": 67
        }
      },
      "source": [
        "# k initialized\n",
        "k = 7 # near elements\n",
        "\n",
        "#step 1\n",
        "vals = [] \n",
        "for i in range(0, X.shape[0]):\n",
        "    dist = distance(X[i] , testing_point)\n",
        "    vals.append([dist , Y[i]])\n",
        "\n",
        "# step 2\n",
        "vals = sorted(vals)\n",
        "\n",
        "vals = vals[:k]\n",
        "vals = np.array(vals)\n",
        "# print(vals)\n",
        "# #print(vals[:,1])\n",
        "new_val = np.unique(vals [:,1] , return_counts = True)\n",
        "\n",
        "print(new_val)\n",
        "\n",
        "index = new_val[1].argmax() #index where maximum value is present\n",
        "\n",
        "print(index)\n",
        "\n",
        "ans = new_val[0][index]\n",
        "\n",
        "print(ans)"
      ],
      "execution_count": 0,
      "outputs": [
        {
          "output_type": "stream",
          "text": [
            "(array([array([0.]), array([1.])], dtype=object), array([5, 2]))\n",
            "0\n",
            "[0.]\n"
          ],
          "name": "stdout"
        }
      ]
    },
    {
      "cell_type": "code",
      "metadata": {
        "id": "cqOpgqS-MEpp",
        "colab_type": "code",
        "outputId": "9c2ab90c-6372-4993-a84d-6711fc140312",
        "colab": {
          "base_uri": "https://localhost:8080/",
          "height": 34
        }
      },
      "source": [
        "X.shape[0]"
      ],
      "execution_count": 0,
      "outputs": [
        {
          "output_type": "execute_result",
          "data": {
            "text/plain": [
              "400"
            ]
          },
          "metadata": {
            "tags": []
          },
          "execution_count": 12
        }
      ]
    },
    {
      "cell_type": "code",
      "metadata": {
        "id": "6qQukO1JMEpw",
        "colab_type": "code",
        "outputId": "c913dfc6-440c-47d5-eb9b-ed3bb0a0b0d3",
        "colab": {
          "base_uri": "https://localhost:8080/",
          "height": 134
        }
      },
      "source": [
        "vals"
      ],
      "execution_count": 0,
      "outputs": [
        {
          "output_type": "execute_result",
          "data": {
            "text/plain": [
              "array([[0.11937694641032923, array([0.])],\n",
              "       [0.2439279914285809, array([1.])],\n",
              "       [0.24435617231406334, array([0.])],\n",
              "       [0.32750157532483204, array([0.])],\n",
              "       [0.44941873737939525, array([1.])],\n",
              "       [0.5107561566676762, array([0.])],\n",
              "       [0.5566121542162752, array([0.])]], dtype=object)"
            ]
          },
          "metadata": {
            "tags": []
          },
          "execution_count": 13
        }
      ]
    },
    {
      "cell_type": "code",
      "metadata": {
        "id": "hrbUEdyxMEp3",
        "colab_type": "code",
        "outputId": "3eabb7b7-ce7e-4726-e090-b1436e0ff8fc",
        "colab": {
          "base_uri": "https://localhost:8080/",
          "height": 34
        }
      },
      "source": [
        "print(np.unique([1,2,3,4,5 , 6 , 3 , 1 ,2 ,4 ,5  , 2 ,2 ,2] , return_counts =True))"
      ],
      "execution_count": 0,
      "outputs": [
        {
          "output_type": "stream",
          "text": [
            "(array([1, 2, 3, 4, 5, 6]), array([2, 5, 2, 2, 2, 1]))\n"
          ],
          "name": "stdout"
        }
      ]
    },
    {
      "cell_type": "code",
      "metadata": {
        "id": "rpU0q5BmMEp6",
        "colab_type": "code",
        "outputId": "8c52a9e4-5b6b-4fdc-c721-24034885d260",
        "colab": {
          "base_uri": "https://localhost:8080/",
          "height": 34
        }
      },
      "source": [
        "np.array([1, 2, 3, 4, 5, 6, 3, 1, 2, 4, 5, 2, 2, 2, 6]).argmax()"
      ],
      "execution_count": 0,
      "outputs": [
        {
          "output_type": "execute_result",
          "data": {
            "text/plain": [
              "5"
            ]
          },
          "metadata": {
            "tags": []
          },
          "execution_count": 17
        }
      ]
    },
    {
      "cell_type": "code",
      "metadata": {
        "id": "G1K_ZWDYMEp-",
        "colab_type": "code",
        "outputId": "4f2d8721-c0ed-4770-c467-1f7ea9ada200",
        "colab": {
          "base_uri": "https://localhost:8080/",
          "height": 34
        }
      },
      "source": [
        "# final function\n",
        "def knn(X , Y , testing_point ,  k = 7):\n",
        "    vals = []\n",
        "    \n",
        "    for i in range(X.shape[0]):\n",
        "        dist = distance(X[i] , testing_point)\n",
        "        vals.append([dist , Y[i]])\n",
        "\n",
        "    vals = sorted(vals)\n",
        "\n",
        "    vals = vals[:k]\n",
        "    vals = np.array(vals)\n",
        "    #print(vals[:,1])\n",
        "    \n",
        "    new_val = np.unique(vals [:,1] , return_counts = True)\n",
        "    #print(new_val)\n",
        "\n",
        "    index = new_val[1].argmax()\n",
        "    #print(index)\n",
        "\n",
        "    predicting = new_val[0][index]\n",
        "\n",
        "    #print(new_val[0][index])\n",
        "    return predicting\n",
        "\n",
        "testing_point = np.array([2 , 5])\n",
        "k = 11\n",
        "knn(X ,Y , testing_point , k)"
      ],
      "execution_count": 0,
      "outputs": [
        {
          "output_type": "execute_result",
          "data": {
            "text/plain": [
              "array([0.])"
            ]
          },
          "metadata": {
            "tags": []
          },
          "execution_count": 18
        }
      ]
    },
    {
      "cell_type": "code",
      "metadata": {
        "id": "EYECj4v-MEqB",
        "colab_type": "code",
        "colab": {}
      },
      "source": [
        ""
      ],
      "execution_count": 0,
      "outputs": []
    }
  ]
}