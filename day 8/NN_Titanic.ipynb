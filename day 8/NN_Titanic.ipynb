{
  "nbformat": 4,
  "nbformat_minor": 0,
  "metadata": {
    "colab": {
      "name": "NN Titanic.ipynb",
      "provenance": []
    },
    "kernelspec": {
      "name": "python3",
      "display_name": "Python 3"
    },
    "accelerator": "GPU"
  },
  "cells": [
    {
      "cell_type": "code",
      "metadata": {
        "id": "P_RCxuTN9SPx",
        "colab_type": "code",
        "colab": {}
      },
      "source": [
        "import numpy as np\n",
        "import pandas as pd\n",
        "import matplotlib.pyplot as plt"
      ],
      "execution_count": 0,
      "outputs": []
    },
    {
      "cell_type": "code",
      "metadata": {
        "id": "oCgSlJ0f901T",
        "colab_type": "code",
        "colab": {}
      },
      "source": [
        "df = pd.read_csv(\"train.csv\")"
      ],
      "execution_count": 0,
      "outputs": []
    },
    {
      "cell_type": "code",
      "metadata": {
        "id": "rpEu5Mt-96dM",
        "colab_type": "code",
        "outputId": "a8e99d0c-3cff-487f-bb75-ccdc8336c043",
        "colab": {
          "base_uri": "https://localhost:8080/",
          "height": 195
        }
      },
      "source": [
        "df.head()"
      ],
      "execution_count": 3,
      "outputs": [
        {
          "output_type": "execute_result",
          "data": {
            "text/html": [
              "<div>\n",
              "<style scoped>\n",
              "    .dataframe tbody tr th:only-of-type {\n",
              "        vertical-align: middle;\n",
              "    }\n",
              "\n",
              "    .dataframe tbody tr th {\n",
              "        vertical-align: top;\n",
              "    }\n",
              "\n",
              "    .dataframe thead th {\n",
              "        text-align: right;\n",
              "    }\n",
              "</style>\n",
              "<table border=\"1\" class=\"dataframe\">\n",
              "  <thead>\n",
              "    <tr style=\"text-align: right;\">\n",
              "      <th></th>\n",
              "      <th>PassengerId</th>\n",
              "      <th>Survived</th>\n",
              "      <th>Pclass</th>\n",
              "      <th>Name</th>\n",
              "      <th>Sex</th>\n",
              "      <th>Age</th>\n",
              "      <th>SibSp</th>\n",
              "      <th>Parch</th>\n",
              "      <th>Ticket</th>\n",
              "      <th>Fare</th>\n",
              "      <th>Cabin</th>\n",
              "      <th>Embarked</th>\n",
              "    </tr>\n",
              "  </thead>\n",
              "  <tbody>\n",
              "    <tr>\n",
              "      <th>0</th>\n",
              "      <td>1</td>\n",
              "      <td>0</td>\n",
              "      <td>3</td>\n",
              "      <td>Braund, Mr. Owen Harris</td>\n",
              "      <td>male</td>\n",
              "      <td>22.0</td>\n",
              "      <td>1</td>\n",
              "      <td>0</td>\n",
              "      <td>A/5 21171</td>\n",
              "      <td>7.2500</td>\n",
              "      <td>NaN</td>\n",
              "      <td>S</td>\n",
              "    </tr>\n",
              "    <tr>\n",
              "      <th>1</th>\n",
              "      <td>2</td>\n",
              "      <td>1</td>\n",
              "      <td>1</td>\n",
              "      <td>Cumings, Mrs. John Bradley (Florence Briggs Th...</td>\n",
              "      <td>female</td>\n",
              "      <td>38.0</td>\n",
              "      <td>1</td>\n",
              "      <td>0</td>\n",
              "      <td>PC 17599</td>\n",
              "      <td>71.2833</td>\n",
              "      <td>C85</td>\n",
              "      <td>C</td>\n",
              "    </tr>\n",
              "    <tr>\n",
              "      <th>2</th>\n",
              "      <td>3</td>\n",
              "      <td>1</td>\n",
              "      <td>3</td>\n",
              "      <td>Heikkinen, Miss. Laina</td>\n",
              "      <td>female</td>\n",
              "      <td>26.0</td>\n",
              "      <td>0</td>\n",
              "      <td>0</td>\n",
              "      <td>STON/O2. 3101282</td>\n",
              "      <td>7.9250</td>\n",
              "      <td>NaN</td>\n",
              "      <td>S</td>\n",
              "    </tr>\n",
              "    <tr>\n",
              "      <th>3</th>\n",
              "      <td>4</td>\n",
              "      <td>1</td>\n",
              "      <td>1</td>\n",
              "      <td>Futrelle, Mrs. Jacques Heath (Lily May Peel)</td>\n",
              "      <td>female</td>\n",
              "      <td>35.0</td>\n",
              "      <td>1</td>\n",
              "      <td>0</td>\n",
              "      <td>113803</td>\n",
              "      <td>53.1000</td>\n",
              "      <td>C123</td>\n",
              "      <td>S</td>\n",
              "    </tr>\n",
              "    <tr>\n",
              "      <th>4</th>\n",
              "      <td>5</td>\n",
              "      <td>0</td>\n",
              "      <td>3</td>\n",
              "      <td>Allen, Mr. William Henry</td>\n",
              "      <td>male</td>\n",
              "      <td>35.0</td>\n",
              "      <td>0</td>\n",
              "      <td>0</td>\n",
              "      <td>373450</td>\n",
              "      <td>8.0500</td>\n",
              "      <td>NaN</td>\n",
              "      <td>S</td>\n",
              "    </tr>\n",
              "  </tbody>\n",
              "</table>\n",
              "</div>"
            ],
            "text/plain": [
              "   PassengerId  Survived  Pclass  ...     Fare Cabin  Embarked\n",
              "0            1         0       3  ...   7.2500   NaN         S\n",
              "1            2         1       1  ...  71.2833   C85         C\n",
              "2            3         1       3  ...   7.9250   NaN         S\n",
              "3            4         1       1  ...  53.1000  C123         S\n",
              "4            5         0       3  ...   8.0500   NaN         S\n",
              "\n",
              "[5 rows x 12 columns]"
            ]
          },
          "metadata": {
            "tags": []
          },
          "execution_count": 3
        }
      ]
    },
    {
      "cell_type": "code",
      "metadata": {
        "id": "4mM_H1Tq98ce",
        "colab_type": "code",
        "outputId": "16bd3df4-1ba4-473c-94e6-cce5426de510",
        "colab": {
          "base_uri": "https://localhost:8080/",
          "height": 67
        }
      },
      "source": [
        "df.columns"
      ],
      "execution_count": 4,
      "outputs": [
        {
          "output_type": "execute_result",
          "data": {
            "text/plain": [
              "Index(['PassengerId', 'Survived', 'Pclass', 'Name', 'Sex', 'Age', 'SibSp',\n",
              "       'Parch', 'Ticket', 'Fare', 'Cabin', 'Embarked'],\n",
              "      dtype='object')"
            ]
          },
          "metadata": {
            "tags": []
          },
          "execution_count": 4
        }
      ]
    },
    {
      "cell_type": "code",
      "metadata": {
        "id": "f1MMSemv-HPw",
        "colab_type": "code",
        "colab": {}
      },
      "source": [
        "l1 = ['PassengerId', 'Cabin', 'Ticket']\n",
        "df.drop(l1, inplace= True, axis = 1)"
      ],
      "execution_count": 0,
      "outputs": []
    },
    {
      "cell_type": "code",
      "metadata": {
        "id": "44fFna-S-XkB",
        "colab_type": "code",
        "outputId": "56a83030-e45e-4c53-8ffa-657b3916035b",
        "colab": {
          "base_uri": "https://localhost:8080/",
          "height": 195
        }
      },
      "source": [
        "df.head()"
      ],
      "execution_count": 6,
      "outputs": [
        {
          "output_type": "execute_result",
          "data": {
            "text/html": [
              "<div>\n",
              "<style scoped>\n",
              "    .dataframe tbody tr th:only-of-type {\n",
              "        vertical-align: middle;\n",
              "    }\n",
              "\n",
              "    .dataframe tbody tr th {\n",
              "        vertical-align: top;\n",
              "    }\n",
              "\n",
              "    .dataframe thead th {\n",
              "        text-align: right;\n",
              "    }\n",
              "</style>\n",
              "<table border=\"1\" class=\"dataframe\">\n",
              "  <thead>\n",
              "    <tr style=\"text-align: right;\">\n",
              "      <th></th>\n",
              "      <th>Survived</th>\n",
              "      <th>Pclass</th>\n",
              "      <th>Name</th>\n",
              "      <th>Sex</th>\n",
              "      <th>Age</th>\n",
              "      <th>SibSp</th>\n",
              "      <th>Parch</th>\n",
              "      <th>Fare</th>\n",
              "      <th>Embarked</th>\n",
              "    </tr>\n",
              "  </thead>\n",
              "  <tbody>\n",
              "    <tr>\n",
              "      <th>0</th>\n",
              "      <td>0</td>\n",
              "      <td>3</td>\n",
              "      <td>Braund, Mr. Owen Harris</td>\n",
              "      <td>male</td>\n",
              "      <td>22.0</td>\n",
              "      <td>1</td>\n",
              "      <td>0</td>\n",
              "      <td>7.2500</td>\n",
              "      <td>S</td>\n",
              "    </tr>\n",
              "    <tr>\n",
              "      <th>1</th>\n",
              "      <td>1</td>\n",
              "      <td>1</td>\n",
              "      <td>Cumings, Mrs. John Bradley (Florence Briggs Th...</td>\n",
              "      <td>female</td>\n",
              "      <td>38.0</td>\n",
              "      <td>1</td>\n",
              "      <td>0</td>\n",
              "      <td>71.2833</td>\n",
              "      <td>C</td>\n",
              "    </tr>\n",
              "    <tr>\n",
              "      <th>2</th>\n",
              "      <td>1</td>\n",
              "      <td>3</td>\n",
              "      <td>Heikkinen, Miss. Laina</td>\n",
              "      <td>female</td>\n",
              "      <td>26.0</td>\n",
              "      <td>0</td>\n",
              "      <td>0</td>\n",
              "      <td>7.9250</td>\n",
              "      <td>S</td>\n",
              "    </tr>\n",
              "    <tr>\n",
              "      <th>3</th>\n",
              "      <td>1</td>\n",
              "      <td>1</td>\n",
              "      <td>Futrelle, Mrs. Jacques Heath (Lily May Peel)</td>\n",
              "      <td>female</td>\n",
              "      <td>35.0</td>\n",
              "      <td>1</td>\n",
              "      <td>0</td>\n",
              "      <td>53.1000</td>\n",
              "      <td>S</td>\n",
              "    </tr>\n",
              "    <tr>\n",
              "      <th>4</th>\n",
              "      <td>0</td>\n",
              "      <td>3</td>\n",
              "      <td>Allen, Mr. William Henry</td>\n",
              "      <td>male</td>\n",
              "      <td>35.0</td>\n",
              "      <td>0</td>\n",
              "      <td>0</td>\n",
              "      <td>8.0500</td>\n",
              "      <td>S</td>\n",
              "    </tr>\n",
              "  </tbody>\n",
              "</table>\n",
              "</div>"
            ],
            "text/plain": [
              "   Survived  Pclass  ...     Fare Embarked\n",
              "0         0       3  ...   7.2500        S\n",
              "1         1       1  ...  71.2833        C\n",
              "2         1       3  ...   7.9250        S\n",
              "3         1       1  ...  53.1000        S\n",
              "4         0       3  ...   8.0500        S\n",
              "\n",
              "[5 rows x 9 columns]"
            ]
          },
          "metadata": {
            "tags": []
          },
          "execution_count": 6
        }
      ]
    },
    {
      "cell_type": "code",
      "metadata": {
        "id": "ToJM49tE-fSR",
        "colab_type": "code",
        "colab": {}
      },
      "source": [
        "temp  = df[\"Name\"].unique()"
      ],
      "execution_count": 0,
      "outputs": []
    },
    {
      "cell_type": "code",
      "metadata": {
        "id": "xyebnXiM-lBF",
        "colab_type": "code",
        "outputId": "89b9c340-929b-4175-cae9-ee53044f8ba8",
        "colab": {
          "base_uri": "https://localhost:8080/",
          "height": 151
        }
      },
      "source": [
        "temp[:10]"
      ],
      "execution_count": 8,
      "outputs": [
        {
          "output_type": "execute_result",
          "data": {
            "text/plain": [
              "array(['Braund, Mr. Owen Harris',\n",
              "       'Cumings, Mrs. John Bradley (Florence Briggs Thayer)',\n",
              "       'Heikkinen, Miss. Laina',\n",
              "       'Futrelle, Mrs. Jacques Heath (Lily May Peel)',\n",
              "       'Allen, Mr. William Henry', 'Moran, Mr. James',\n",
              "       'McCarthy, Mr. Timothy J', 'Palsson, Master. Gosta Leonard',\n",
              "       'Johnson, Mrs. Oscar W (Elisabeth Vilhelmina Berg)',\n",
              "       'Nasser, Mrs. Nicholas (Adele Achem)'], dtype=object)"
            ]
          },
          "metadata": {
            "tags": []
          },
          "execution_count": 8
        }
      ]
    },
    {
      "cell_type": "code",
      "metadata": {
        "id": "uZn3q5gB_P3J",
        "colab_type": "code",
        "colab": {}
      },
      "source": [
        "st = []\n",
        "\n",
        "for i in temp :\n",
        "    a = i.split(' ')\n",
        "    for k in a :\n",
        "        if '.' in k:\n",
        "            st.append(k)\n",
        "            break"
      ],
      "execution_count": 0,
      "outputs": []
    },
    {
      "cell_type": "code",
      "metadata": {
        "id": "4f5UwQ3b_04V",
        "colab_type": "code",
        "colab": {}
      },
      "source": [
        "st = np.array(st)\n",
        "df[\"New_Name\"] = st"
      ],
      "execution_count": 0,
      "outputs": []
    },
    {
      "cell_type": "code",
      "metadata": {
        "id": "nD-dK7crB86L",
        "colab_type": "code",
        "outputId": "291a3627-29ce-48ff-aaac-969fe63307fa",
        "colab": {
          "base_uri": "https://localhost:8080/",
          "height": 195
        }
      },
      "source": [
        "df.head()"
      ],
      "execution_count": 11,
      "outputs": [
        {
          "output_type": "execute_result",
          "data": {
            "text/html": [
              "<div>\n",
              "<style scoped>\n",
              "    .dataframe tbody tr th:only-of-type {\n",
              "        vertical-align: middle;\n",
              "    }\n",
              "\n",
              "    .dataframe tbody tr th {\n",
              "        vertical-align: top;\n",
              "    }\n",
              "\n",
              "    .dataframe thead th {\n",
              "        text-align: right;\n",
              "    }\n",
              "</style>\n",
              "<table border=\"1\" class=\"dataframe\">\n",
              "  <thead>\n",
              "    <tr style=\"text-align: right;\">\n",
              "      <th></th>\n",
              "      <th>Survived</th>\n",
              "      <th>Pclass</th>\n",
              "      <th>Name</th>\n",
              "      <th>Sex</th>\n",
              "      <th>Age</th>\n",
              "      <th>SibSp</th>\n",
              "      <th>Parch</th>\n",
              "      <th>Fare</th>\n",
              "      <th>Embarked</th>\n",
              "      <th>New_Name</th>\n",
              "    </tr>\n",
              "  </thead>\n",
              "  <tbody>\n",
              "    <tr>\n",
              "      <th>0</th>\n",
              "      <td>0</td>\n",
              "      <td>3</td>\n",
              "      <td>Braund, Mr. Owen Harris</td>\n",
              "      <td>male</td>\n",
              "      <td>22.0</td>\n",
              "      <td>1</td>\n",
              "      <td>0</td>\n",
              "      <td>7.2500</td>\n",
              "      <td>S</td>\n",
              "      <td>Mr.</td>\n",
              "    </tr>\n",
              "    <tr>\n",
              "      <th>1</th>\n",
              "      <td>1</td>\n",
              "      <td>1</td>\n",
              "      <td>Cumings, Mrs. John Bradley (Florence Briggs Th...</td>\n",
              "      <td>female</td>\n",
              "      <td>38.0</td>\n",
              "      <td>1</td>\n",
              "      <td>0</td>\n",
              "      <td>71.2833</td>\n",
              "      <td>C</td>\n",
              "      <td>Mrs.</td>\n",
              "    </tr>\n",
              "    <tr>\n",
              "      <th>2</th>\n",
              "      <td>1</td>\n",
              "      <td>3</td>\n",
              "      <td>Heikkinen, Miss. Laina</td>\n",
              "      <td>female</td>\n",
              "      <td>26.0</td>\n",
              "      <td>0</td>\n",
              "      <td>0</td>\n",
              "      <td>7.9250</td>\n",
              "      <td>S</td>\n",
              "      <td>Miss.</td>\n",
              "    </tr>\n",
              "    <tr>\n",
              "      <th>3</th>\n",
              "      <td>1</td>\n",
              "      <td>1</td>\n",
              "      <td>Futrelle, Mrs. Jacques Heath (Lily May Peel)</td>\n",
              "      <td>female</td>\n",
              "      <td>35.0</td>\n",
              "      <td>1</td>\n",
              "      <td>0</td>\n",
              "      <td>53.1000</td>\n",
              "      <td>S</td>\n",
              "      <td>Mrs.</td>\n",
              "    </tr>\n",
              "    <tr>\n",
              "      <th>4</th>\n",
              "      <td>0</td>\n",
              "      <td>3</td>\n",
              "      <td>Allen, Mr. William Henry</td>\n",
              "      <td>male</td>\n",
              "      <td>35.0</td>\n",
              "      <td>0</td>\n",
              "      <td>0</td>\n",
              "      <td>8.0500</td>\n",
              "      <td>S</td>\n",
              "      <td>Mr.</td>\n",
              "    </tr>\n",
              "  </tbody>\n",
              "</table>\n",
              "</div>"
            ],
            "text/plain": [
              "   Survived  Pclass  ... Embarked New_Name\n",
              "0         0       3  ...        S      Mr.\n",
              "1         1       1  ...        C     Mrs.\n",
              "2         1       3  ...        S    Miss.\n",
              "3         1       1  ...        S     Mrs.\n",
              "4         0       3  ...        S      Mr.\n",
              "\n",
              "[5 rows x 10 columns]"
            ]
          },
          "metadata": {
            "tags": []
          },
          "execution_count": 11
        }
      ]
    },
    {
      "cell_type": "code",
      "metadata": {
        "id": "tey3rnSiCV-w",
        "colab_type": "code",
        "outputId": "18c0bcdd-6d0c-4e28-df87-7bef141a74ad",
        "colab": {
          "base_uri": "https://localhost:8080/",
          "height": 67
        }
      },
      "source": [
        "df[\"New_Name\"].unique()"
      ],
      "execution_count": 12,
      "outputs": [
        {
          "output_type": "execute_result",
          "data": {
            "text/plain": [
              "array(['Mr.', 'Mrs.', 'Miss.', 'Master.', 'Don.', 'Rev.', 'Dr.', 'Mme.',\n",
              "       'Ms.', 'Major.', 'Lady.', 'Sir.', 'Mlle.', 'Col.', 'Capt.',\n",
              "       'Countess.', 'Jonkheer.'], dtype=object)"
            ]
          },
          "metadata": {
            "tags": []
          },
          "execution_count": 12
        }
      ]
    },
    {
      "cell_type": "code",
      "metadata": {
        "id": "xcTOExkPCn9r",
        "colab_type": "code",
        "colab": {}
      },
      "source": [
        "l2 = ['Name']\n",
        "df.drop(l2, axis = 1, inplace = True)"
      ],
      "execution_count": 0,
      "outputs": []
    },
    {
      "cell_type": "code",
      "metadata": {
        "id": "rM5y0TyWC-Lz",
        "colab_type": "code",
        "outputId": "43db2019-4697-4d98-ba30-b19dc762d677",
        "colab": {
          "base_uri": "https://localhost:8080/",
          "height": 195
        }
      },
      "source": [
        "df.head()"
      ],
      "execution_count": 14,
      "outputs": [
        {
          "output_type": "execute_result",
          "data": {
            "text/html": [
              "<div>\n",
              "<style scoped>\n",
              "    .dataframe tbody tr th:only-of-type {\n",
              "        vertical-align: middle;\n",
              "    }\n",
              "\n",
              "    .dataframe tbody tr th {\n",
              "        vertical-align: top;\n",
              "    }\n",
              "\n",
              "    .dataframe thead th {\n",
              "        text-align: right;\n",
              "    }\n",
              "</style>\n",
              "<table border=\"1\" class=\"dataframe\">\n",
              "  <thead>\n",
              "    <tr style=\"text-align: right;\">\n",
              "      <th></th>\n",
              "      <th>Survived</th>\n",
              "      <th>Pclass</th>\n",
              "      <th>Sex</th>\n",
              "      <th>Age</th>\n",
              "      <th>SibSp</th>\n",
              "      <th>Parch</th>\n",
              "      <th>Fare</th>\n",
              "      <th>Embarked</th>\n",
              "      <th>New_Name</th>\n",
              "    </tr>\n",
              "  </thead>\n",
              "  <tbody>\n",
              "    <tr>\n",
              "      <th>0</th>\n",
              "      <td>0</td>\n",
              "      <td>3</td>\n",
              "      <td>male</td>\n",
              "      <td>22.0</td>\n",
              "      <td>1</td>\n",
              "      <td>0</td>\n",
              "      <td>7.2500</td>\n",
              "      <td>S</td>\n",
              "      <td>Mr.</td>\n",
              "    </tr>\n",
              "    <tr>\n",
              "      <th>1</th>\n",
              "      <td>1</td>\n",
              "      <td>1</td>\n",
              "      <td>female</td>\n",
              "      <td>38.0</td>\n",
              "      <td>1</td>\n",
              "      <td>0</td>\n",
              "      <td>71.2833</td>\n",
              "      <td>C</td>\n",
              "      <td>Mrs.</td>\n",
              "    </tr>\n",
              "    <tr>\n",
              "      <th>2</th>\n",
              "      <td>1</td>\n",
              "      <td>3</td>\n",
              "      <td>female</td>\n",
              "      <td>26.0</td>\n",
              "      <td>0</td>\n",
              "      <td>0</td>\n",
              "      <td>7.9250</td>\n",
              "      <td>S</td>\n",
              "      <td>Miss.</td>\n",
              "    </tr>\n",
              "    <tr>\n",
              "      <th>3</th>\n",
              "      <td>1</td>\n",
              "      <td>1</td>\n",
              "      <td>female</td>\n",
              "      <td>35.0</td>\n",
              "      <td>1</td>\n",
              "      <td>0</td>\n",
              "      <td>53.1000</td>\n",
              "      <td>S</td>\n",
              "      <td>Mrs.</td>\n",
              "    </tr>\n",
              "    <tr>\n",
              "      <th>4</th>\n",
              "      <td>0</td>\n",
              "      <td>3</td>\n",
              "      <td>male</td>\n",
              "      <td>35.0</td>\n",
              "      <td>0</td>\n",
              "      <td>0</td>\n",
              "      <td>8.0500</td>\n",
              "      <td>S</td>\n",
              "      <td>Mr.</td>\n",
              "    </tr>\n",
              "  </tbody>\n",
              "</table>\n",
              "</div>"
            ],
            "text/plain": [
              "   Survived  Pclass     Sex   Age  SibSp  Parch     Fare Embarked New_Name\n",
              "0         0       3    male  22.0      1      0   7.2500        S      Mr.\n",
              "1         1       1  female  38.0      1      0  71.2833        C     Mrs.\n",
              "2         1       3  female  26.0      0      0   7.9250        S    Miss.\n",
              "3         1       1  female  35.0      1      0  53.1000        S     Mrs.\n",
              "4         0       3    male  35.0      0      0   8.0500        S      Mr."
            ]
          },
          "metadata": {
            "tags": []
          },
          "execution_count": 14
        }
      ]
    },
    {
      "cell_type": "code",
      "metadata": {
        "id": "ly3bxddTDGlv",
        "colab_type": "code",
        "outputId": "c8be1d4f-af5f-4cfa-d41f-eb162332398b",
        "colab": {
          "base_uri": "https://localhost:8080/",
          "height": 185
        }
      },
      "source": [
        "df.isnull().sum()"
      ],
      "execution_count": 15,
      "outputs": [
        {
          "output_type": "execute_result",
          "data": {
            "text/plain": [
              "Survived      0\n",
              "Pclass        0\n",
              "Sex           0\n",
              "Age         177\n",
              "SibSp         0\n",
              "Parch         0\n",
              "Fare          0\n",
              "Embarked      2\n",
              "New_Name      0\n",
              "dtype: int64"
            ]
          },
          "metadata": {
            "tags": []
          },
          "execution_count": 15
        }
      ]
    },
    {
      "cell_type": "code",
      "metadata": {
        "id": "Etwzf9xFDMh5",
        "colab_type": "code",
        "colab": {}
      },
      "source": [
        "emb = list(df[\"Embarked\"].mode())[0]\n",
        "df[\"Age\"].fillna(df[\"Age\"].mean(), inplace = True)\n",
        "df[\"Embarked\"].fillna(emb, inplace = True)"
      ],
      "execution_count": 0,
      "outputs": []
    },
    {
      "cell_type": "code",
      "metadata": {
        "id": "HSEa1MqaDYv8",
        "colab_type": "code",
        "outputId": "459d35c1-7309-4ca9-9497-f7420e2b921a",
        "colab": {
          "base_uri": "https://localhost:8080/",
          "height": 185
        }
      },
      "source": [
        "df.isnull().sum()"
      ],
      "execution_count": 17,
      "outputs": [
        {
          "output_type": "execute_result",
          "data": {
            "text/plain": [
              "Survived    0\n",
              "Pclass      0\n",
              "Sex         0\n",
              "Age         0\n",
              "SibSp       0\n",
              "Parch       0\n",
              "Fare        0\n",
              "Embarked    0\n",
              "New_Name    0\n",
              "dtype: int64"
            ]
          },
          "metadata": {
            "tags": []
          },
          "execution_count": 17
        }
      ]
    },
    {
      "cell_type": "code",
      "metadata": {
        "id": "td9S3no1D6ib",
        "colab_type": "code",
        "colab": {}
      },
      "source": [
        "from sklearn.preprocessing import LabelEncoder\n",
        "le_sex = LabelEncoder()\n",
        "le_embarked = LabelEncoder()\n",
        "le_newName = LabelEncoder()"
      ],
      "execution_count": 0,
      "outputs": []
    },
    {
      "cell_type": "code",
      "metadata": {
        "id": "1OdmkwiVEROQ",
        "colab_type": "code",
        "colab": {}
      },
      "source": [
        "df[\"Sex\"] = le_sex.fit_transform(df[\"Sex\"])\n",
        "df[\"Embarked\"] = le_embarked.fit_transform(df[\"Embarked\"])\n",
        "df[\"New_Name\"] = le_newName.fit_transform(df[\"New_Name\"])"
      ],
      "execution_count": 0,
      "outputs": []
    },
    {
      "cell_type": "code",
      "metadata": {
        "id": "YszqdipxE3BB",
        "colab_type": "code",
        "outputId": "5d1031b0-b9ee-4691-ac3c-0c51398c3bad",
        "colab": {
          "base_uri": "https://localhost:8080/",
          "height": 195
        }
      },
      "source": [
        "df.head()"
      ],
      "execution_count": 20,
      "outputs": [
        {
          "output_type": "execute_result",
          "data": {
            "text/html": [
              "<div>\n",
              "<style scoped>\n",
              "    .dataframe tbody tr th:only-of-type {\n",
              "        vertical-align: middle;\n",
              "    }\n",
              "\n",
              "    .dataframe tbody tr th {\n",
              "        vertical-align: top;\n",
              "    }\n",
              "\n",
              "    .dataframe thead th {\n",
              "        text-align: right;\n",
              "    }\n",
              "</style>\n",
              "<table border=\"1\" class=\"dataframe\">\n",
              "  <thead>\n",
              "    <tr style=\"text-align: right;\">\n",
              "      <th></th>\n",
              "      <th>Survived</th>\n",
              "      <th>Pclass</th>\n",
              "      <th>Sex</th>\n",
              "      <th>Age</th>\n",
              "      <th>SibSp</th>\n",
              "      <th>Parch</th>\n",
              "      <th>Fare</th>\n",
              "      <th>Embarked</th>\n",
              "      <th>New_Name</th>\n",
              "    </tr>\n",
              "  </thead>\n",
              "  <tbody>\n",
              "    <tr>\n",
              "      <th>0</th>\n",
              "      <td>0</td>\n",
              "      <td>3</td>\n",
              "      <td>1</td>\n",
              "      <td>22.0</td>\n",
              "      <td>1</td>\n",
              "      <td>0</td>\n",
              "      <td>7.2500</td>\n",
              "      <td>2</td>\n",
              "      <td>12</td>\n",
              "    </tr>\n",
              "    <tr>\n",
              "      <th>1</th>\n",
              "      <td>1</td>\n",
              "      <td>1</td>\n",
              "      <td>0</td>\n",
              "      <td>38.0</td>\n",
              "      <td>1</td>\n",
              "      <td>0</td>\n",
              "      <td>71.2833</td>\n",
              "      <td>0</td>\n",
              "      <td>13</td>\n",
              "    </tr>\n",
              "    <tr>\n",
              "      <th>2</th>\n",
              "      <td>1</td>\n",
              "      <td>3</td>\n",
              "      <td>0</td>\n",
              "      <td>26.0</td>\n",
              "      <td>0</td>\n",
              "      <td>0</td>\n",
              "      <td>7.9250</td>\n",
              "      <td>2</td>\n",
              "      <td>9</td>\n",
              "    </tr>\n",
              "    <tr>\n",
              "      <th>3</th>\n",
              "      <td>1</td>\n",
              "      <td>1</td>\n",
              "      <td>0</td>\n",
              "      <td>35.0</td>\n",
              "      <td>1</td>\n",
              "      <td>0</td>\n",
              "      <td>53.1000</td>\n",
              "      <td>2</td>\n",
              "      <td>13</td>\n",
              "    </tr>\n",
              "    <tr>\n",
              "      <th>4</th>\n",
              "      <td>0</td>\n",
              "      <td>3</td>\n",
              "      <td>1</td>\n",
              "      <td>35.0</td>\n",
              "      <td>0</td>\n",
              "      <td>0</td>\n",
              "      <td>8.0500</td>\n",
              "      <td>2</td>\n",
              "      <td>12</td>\n",
              "    </tr>\n",
              "  </tbody>\n",
              "</table>\n",
              "</div>"
            ],
            "text/plain": [
              "   Survived  Pclass  Sex   Age  SibSp  Parch     Fare  Embarked  New_Name\n",
              "0         0       3    1  22.0      1      0   7.2500         2        12\n",
              "1         1       1    0  38.0      1      0  71.2833         0        13\n",
              "2         1       3    0  26.0      0      0   7.9250         2         9\n",
              "3         1       1    0  35.0      1      0  53.1000         2        13\n",
              "4         0       3    1  35.0      0      0   8.0500         2        12"
            ]
          },
          "metadata": {
            "tags": []
          },
          "execution_count": 20
        }
      ]
    },
    {
      "cell_type": "code",
      "metadata": {
        "id": "hstTQL6KE5sW",
        "colab_type": "code",
        "outputId": "eb658f4b-305a-40f3-8368-bce8d4f9388f",
        "colab": {
          "base_uri": "https://localhost:8080/",
          "height": 34
        }
      },
      "source": [
        "df.shape"
      ],
      "execution_count": 21,
      "outputs": [
        {
          "output_type": "execute_result",
          "data": {
            "text/plain": [
              "(891, 9)"
            ]
          },
          "metadata": {
            "tags": []
          },
          "execution_count": 21
        }
      ]
    },
    {
      "cell_type": "code",
      "metadata": {
        "id": "1Zq-nQPqFBUm",
        "colab_type": "code",
        "colab": {}
      },
      "source": [
        "X = df.iloc[:, 1:].values\n",
        "y = df.iloc[:, 0].values"
      ],
      "execution_count": 0,
      "outputs": []
    },
    {
      "cell_type": "code",
      "metadata": {
        "id": "-NYlBf5iFRHz",
        "colab_type": "code",
        "outputId": "0c8ec25c-ef62-4aef-d0f7-c04825388d62",
        "colab": {
          "base_uri": "https://localhost:8080/",
          "height": 34
        }
      },
      "source": [
        "X.shape, y.shape"
      ],
      "execution_count": 24,
      "outputs": [
        {
          "output_type": "execute_result",
          "data": {
            "text/plain": [
              "((891, 8), (891,))"
            ]
          },
          "metadata": {
            "tags": []
          },
          "execution_count": 24
        }
      ]
    },
    {
      "cell_type": "code",
      "metadata": {
        "id": "r2YhajdfFVMo",
        "colab_type": "code",
        "colab": {}
      },
      "source": [
        "from sklearn.model_selection import train_test_split\n",
        "X_train, X_test, y_train, y_test = train_test_split(X, y, test_size = 0.1)"
      ],
      "execution_count": 0,
      "outputs": []
    },
    {
      "cell_type": "code",
      "metadata": {
        "id": "-qdIp-5OFodp",
        "colab_type": "code",
        "outputId": "ca5fb88c-8876-47aa-b6bf-cbb4969705b7",
        "colab": {
          "base_uri": "https://localhost:8080/",
          "height": 34
        }
      },
      "source": [
        "X_train.shape, y_train.shape, X_test.shape, y_test.shape"
      ],
      "execution_count": 26,
      "outputs": [
        {
          "output_type": "execute_result",
          "data": {
            "text/plain": [
              "((801, 8), (801,), (90, 8), (90,))"
            ]
          },
          "metadata": {
            "tags": []
          },
          "execution_count": 26
        }
      ]
    },
    {
      "cell_type": "code",
      "metadata": {
        "id": "pJiVZ7kfORGz",
        "colab_type": "code",
        "colab": {}
      },
      "source": [
        "from sklearn.preprocessing import StandardScaler\n",
        "sc_x = StandardScaler()\n",
        "X_train = sc_x.fit_transform(X_train)\n",
        "X_test = sc_x.transform(X_test)"
      ],
      "execution_count": 0,
      "outputs": []
    },
    {
      "cell_type": "code",
      "metadata": {
        "id": "wR7e6z4PAllY",
        "colab_type": "code",
        "colab": {}
      },
      "source": [
        "from keras.models import Sequential\n",
        "from keras.layers import Dense, Dropout"
      ],
      "execution_count": 0,
      "outputs": []
    },
    {
      "cell_type": "code",
      "metadata": {
        "id": "rJDcCJbNAlio",
        "colab_type": "code",
        "colab": {
          "base_uri": "https://localhost:8080/",
          "height": 34
        },
        "outputId": "66569978-7043-4451-c1d0-a8ee635ee3e2"
      },
      "source": [
        "X_train.shape, y_train.shape"
      ],
      "execution_count": 29,
      "outputs": [
        {
          "output_type": "execute_result",
          "data": {
            "text/plain": [
              "((801, 8), (801,))"
            ]
          },
          "metadata": {
            "tags": []
          },
          "execution_count": 29
        }
      ]
    },
    {
      "cell_type": "code",
      "metadata": {
        "id": "yxAjiSRaAlgo",
        "colab_type": "code",
        "colab": {}
      },
      "source": [
        "classifier = Sequential()"
      ],
      "execution_count": 0,
      "outputs": []
    },
    {
      "cell_type": "code",
      "metadata": {
        "id": "_SM0Ke-XAlc9",
        "colab_type": "code",
        "colab": {}
      },
      "source": [
        "classifier.add(Dense(units= 32, activation= 'relu', input_shape = (8,)))\n",
        "classifier.add(Dropout(rate = 0.25))"
      ],
      "execution_count": 0,
      "outputs": []
    },
    {
      "cell_type": "code",
      "metadata": {
        "id": "kvYiWtDaAlbO",
        "colab_type": "code",
        "colab": {}
      },
      "source": [
        "#hidden layer\n",
        "classifier.add(Dense(units = 32, activation= 'relu'))\n",
        "classifier.add(Dropout(rate = 0.25))"
      ],
      "execution_count": 0,
      "outputs": []
    },
    {
      "cell_type": "code",
      "metadata": {
        "id": "cE7W-LAMAlZG",
        "colab_type": "code",
        "colab": {}
      },
      "source": [
        "classifier.add(Dense(units=1, activation= 'sigmoid'))"
      ],
      "execution_count": 0,
      "outputs": []
    },
    {
      "cell_type": "code",
      "metadata": {
        "id": "jWXL8BmWAlV0",
        "colab_type": "code",
        "colab": {}
      },
      "source": [
        "classifier.compile(optimizer= 'adam', loss= 'binary_crossentropy', metrics= ['accuracy'])"
      ],
      "execution_count": 0,
      "outputs": []
    },
    {
      "cell_type": "code",
      "metadata": {
        "id": "UxCw6HTjAlS7",
        "colab_type": "code",
        "colab": {
          "base_uri": "https://localhost:8080/",
          "height": 319
        },
        "outputId": "8738218c-89a0-431e-c033-6e3aaf9bdf65"
      },
      "source": [
        "classifier.summary()"
      ],
      "execution_count": 79,
      "outputs": [
        {
          "output_type": "stream",
          "text": [
            "Model: \"sequential_4\"\n",
            "_________________________________________________________________\n",
            "Layer (type)                 Output Shape              Param #   \n",
            "=================================================================\n",
            "dense_10 (Dense)             (None, 32)                288       \n",
            "_________________________________________________________________\n",
            "dropout_3 (Dropout)          (None, 32)                0         \n",
            "_________________________________________________________________\n",
            "dense_11 (Dense)             (None, 32)                1056      \n",
            "_________________________________________________________________\n",
            "dropout_4 (Dropout)          (None, 32)                0         \n",
            "_________________________________________________________________\n",
            "dense_12 (Dense)             (None, 1)                 33        \n",
            "=================================================================\n",
            "Total params: 1,377\n",
            "Trainable params: 1,377\n",
            "Non-trainable params: 0\n",
            "_________________________________________________________________\n"
          ],
          "name": "stdout"
        }
      ]
    },
    {
      "cell_type": "code",
      "metadata": {
        "id": "Ytw94n0gAlQ7",
        "colab_type": "code",
        "colab": {
          "base_uri": "https://localhost:8080/",
          "height": 1000
        },
        "outputId": "c6123ac0-8057-4aa4-9bee-0183b271c1bc"
      },
      "source": [
        "classifier.fit(X_train, y_train, batch_size= 64, epochs= 100, validation_split= 0.1)"
      ],
      "execution_count": 80,
      "outputs": [
        {
          "output_type": "stream",
          "text": [
            "Train on 720 samples, validate on 81 samples\n",
            "Epoch 1/100\n",
            "720/720 [==============================] - 0s 323us/step - loss: 0.7383 - accuracy: 0.4139 - val_loss: 0.7399 - val_accuracy: 0.5432\n",
            "Epoch 2/100\n",
            "720/720 [==============================] - 0s 73us/step - loss: 0.6799 - accuracy: 0.5806 - val_loss: 0.6872 - val_accuracy: 0.6667\n",
            "Epoch 3/100\n",
            "720/720 [==============================] - 0s 75us/step - loss: 0.6251 - accuracy: 0.6847 - val_loss: 0.6481 - val_accuracy: 0.7037\n",
            "Epoch 4/100\n",
            "720/720 [==============================] - 0s 101us/step - loss: 0.6000 - accuracy: 0.7292 - val_loss: 0.6189 - val_accuracy: 0.7284\n",
            "Epoch 5/100\n",
            "720/720 [==============================] - 0s 78us/step - loss: 0.5645 - accuracy: 0.7500 - val_loss: 0.5936 - val_accuracy: 0.7284\n",
            "Epoch 6/100\n",
            "720/720 [==============================] - 0s 77us/step - loss: 0.5292 - accuracy: 0.7653 - val_loss: 0.5760 - val_accuracy: 0.7531\n",
            "Epoch 7/100\n",
            "720/720 [==============================] - 0s 74us/step - loss: 0.5203 - accuracy: 0.7625 - val_loss: 0.5665 - val_accuracy: 0.7407\n",
            "Epoch 8/100\n",
            "720/720 [==============================] - 0s 75us/step - loss: 0.5169 - accuracy: 0.7625 - val_loss: 0.5577 - val_accuracy: 0.7407\n",
            "Epoch 9/100\n",
            "720/720 [==============================] - 0s 75us/step - loss: 0.4995 - accuracy: 0.7819 - val_loss: 0.5504 - val_accuracy: 0.7407\n",
            "Epoch 10/100\n",
            "720/720 [==============================] - 0s 75us/step - loss: 0.4754 - accuracy: 0.7875 - val_loss: 0.5471 - val_accuracy: 0.7407\n",
            "Epoch 11/100\n",
            "720/720 [==============================] - 0s 82us/step - loss: 0.4760 - accuracy: 0.7833 - val_loss: 0.5457 - val_accuracy: 0.7284\n",
            "Epoch 12/100\n",
            "720/720 [==============================] - 0s 75us/step - loss: 0.4651 - accuracy: 0.7986 - val_loss: 0.5442 - val_accuracy: 0.7160\n",
            "Epoch 13/100\n",
            "720/720 [==============================] - 0s 81us/step - loss: 0.4603 - accuracy: 0.7917 - val_loss: 0.5393 - val_accuracy: 0.7160\n",
            "Epoch 14/100\n",
            "720/720 [==============================] - 0s 77us/step - loss: 0.4346 - accuracy: 0.8097 - val_loss: 0.5346 - val_accuracy: 0.7531\n",
            "Epoch 15/100\n",
            "720/720 [==============================] - 0s 94us/step - loss: 0.4554 - accuracy: 0.7931 - val_loss: 0.5337 - val_accuracy: 0.7531\n",
            "Epoch 16/100\n",
            "720/720 [==============================] - 0s 81us/step - loss: 0.4548 - accuracy: 0.7958 - val_loss: 0.5331 - val_accuracy: 0.7531\n",
            "Epoch 17/100\n",
            "720/720 [==============================] - 0s 83us/step - loss: 0.4505 - accuracy: 0.8111 - val_loss: 0.5333 - val_accuracy: 0.7654\n",
            "Epoch 18/100\n",
            "720/720 [==============================] - 0s 77us/step - loss: 0.4520 - accuracy: 0.8097 - val_loss: 0.5340 - val_accuracy: 0.7654\n",
            "Epoch 19/100\n",
            "720/720 [==============================] - 0s 80us/step - loss: 0.4362 - accuracy: 0.8097 - val_loss: 0.5328 - val_accuracy: 0.7654\n",
            "Epoch 20/100\n",
            "720/720 [==============================] - 0s 89us/step - loss: 0.4430 - accuracy: 0.8056 - val_loss: 0.5215 - val_accuracy: 0.7654\n",
            "Epoch 21/100\n",
            "720/720 [==============================] - 0s 77us/step - loss: 0.4374 - accuracy: 0.8125 - val_loss: 0.5171 - val_accuracy: 0.7654\n",
            "Epoch 22/100\n",
            "720/720 [==============================] - 0s 83us/step - loss: 0.4265 - accuracy: 0.8153 - val_loss: 0.5116 - val_accuracy: 0.7654\n",
            "Epoch 23/100\n",
            "720/720 [==============================] - 0s 73us/step - loss: 0.4304 - accuracy: 0.8208 - val_loss: 0.5086 - val_accuracy: 0.7654\n",
            "Epoch 24/100\n",
            "720/720 [==============================] - 0s 73us/step - loss: 0.4370 - accuracy: 0.8097 - val_loss: 0.5104 - val_accuracy: 0.7654\n",
            "Epoch 25/100\n",
            "720/720 [==============================] - 0s 75us/step - loss: 0.4326 - accuracy: 0.8278 - val_loss: 0.5039 - val_accuracy: 0.7654\n",
            "Epoch 26/100\n",
            "720/720 [==============================] - 0s 76us/step - loss: 0.4284 - accuracy: 0.8181 - val_loss: 0.4994 - val_accuracy: 0.7654\n",
            "Epoch 27/100\n",
            "720/720 [==============================] - 0s 74us/step - loss: 0.4348 - accuracy: 0.8069 - val_loss: 0.4991 - val_accuracy: 0.7654\n",
            "Epoch 28/100\n",
            "720/720 [==============================] - 0s 74us/step - loss: 0.4336 - accuracy: 0.8236 - val_loss: 0.5005 - val_accuracy: 0.7654\n",
            "Epoch 29/100\n",
            "720/720 [==============================] - 0s 74us/step - loss: 0.4140 - accuracy: 0.8083 - val_loss: 0.4995 - val_accuracy: 0.7654\n",
            "Epoch 30/100\n",
            "720/720 [==============================] - 0s 74us/step - loss: 0.4137 - accuracy: 0.8264 - val_loss: 0.4971 - val_accuracy: 0.7654\n",
            "Epoch 31/100\n",
            "720/720 [==============================] - 0s 78us/step - loss: 0.4178 - accuracy: 0.8222 - val_loss: 0.4992 - val_accuracy: 0.7654\n",
            "Epoch 32/100\n",
            "720/720 [==============================] - 0s 94us/step - loss: 0.4224 - accuracy: 0.8236 - val_loss: 0.5003 - val_accuracy: 0.7654\n",
            "Epoch 33/100\n",
            "720/720 [==============================] - 0s 76us/step - loss: 0.4184 - accuracy: 0.8222 - val_loss: 0.4936 - val_accuracy: 0.7778\n",
            "Epoch 34/100\n",
            "720/720 [==============================] - 0s 75us/step - loss: 0.4210 - accuracy: 0.8278 - val_loss: 0.4919 - val_accuracy: 0.7654\n",
            "Epoch 35/100\n",
            "720/720 [==============================] - 0s 75us/step - loss: 0.4316 - accuracy: 0.8208 - val_loss: 0.4904 - val_accuracy: 0.7654\n",
            "Epoch 36/100\n",
            "720/720 [==============================] - 0s 76us/step - loss: 0.4092 - accuracy: 0.8167 - val_loss: 0.4893 - val_accuracy: 0.7654\n",
            "Epoch 37/100\n",
            "720/720 [==============================] - 0s 86us/step - loss: 0.4264 - accuracy: 0.8208 - val_loss: 0.4895 - val_accuracy: 0.7654\n",
            "Epoch 38/100\n",
            "720/720 [==============================] - 0s 76us/step - loss: 0.4185 - accuracy: 0.8319 - val_loss: 0.4885 - val_accuracy: 0.7654\n",
            "Epoch 39/100\n",
            "720/720 [==============================] - 0s 79us/step - loss: 0.4203 - accuracy: 0.8139 - val_loss: 0.4864 - val_accuracy: 0.7654\n",
            "Epoch 40/100\n",
            "720/720 [==============================] - 0s 71us/step - loss: 0.4045 - accuracy: 0.8264 - val_loss: 0.4898 - val_accuracy: 0.7654\n",
            "Epoch 41/100\n",
            "720/720 [==============================] - 0s 75us/step - loss: 0.4163 - accuracy: 0.8194 - val_loss: 0.4887 - val_accuracy: 0.7778\n",
            "Epoch 42/100\n",
            "720/720 [==============================] - 0s 76us/step - loss: 0.4135 - accuracy: 0.8139 - val_loss: 0.4910 - val_accuracy: 0.7778\n",
            "Epoch 43/100\n",
            "720/720 [==============================] - 0s 73us/step - loss: 0.4053 - accuracy: 0.8375 - val_loss: 0.4935 - val_accuracy: 0.7901\n",
            "Epoch 44/100\n",
            "720/720 [==============================] - 0s 73us/step - loss: 0.4070 - accuracy: 0.8347 - val_loss: 0.4910 - val_accuracy: 0.7778\n",
            "Epoch 45/100\n",
            "720/720 [==============================] - 0s 73us/step - loss: 0.4160 - accuracy: 0.8153 - val_loss: 0.4898 - val_accuracy: 0.7901\n",
            "Epoch 46/100\n",
            "720/720 [==============================] - 0s 75us/step - loss: 0.4069 - accuracy: 0.8292 - val_loss: 0.4841 - val_accuracy: 0.7901\n",
            "Epoch 47/100\n",
            "720/720 [==============================] - 0s 79us/step - loss: 0.4020 - accuracy: 0.8389 - val_loss: 0.4794 - val_accuracy: 0.7901\n",
            "Epoch 48/100\n",
            "720/720 [==============================] - 0s 80us/step - loss: 0.4025 - accuracy: 0.8222 - val_loss: 0.4818 - val_accuracy: 0.7901\n",
            "Epoch 49/100\n",
            "720/720 [==============================] - 0s 104us/step - loss: 0.4004 - accuracy: 0.8333 - val_loss: 0.4830 - val_accuracy: 0.7901\n",
            "Epoch 50/100\n",
            "720/720 [==============================] - 0s 83us/step - loss: 0.4185 - accuracy: 0.8194 - val_loss: 0.4828 - val_accuracy: 0.7654\n",
            "Epoch 51/100\n",
            "720/720 [==============================] - 0s 76us/step - loss: 0.4201 - accuracy: 0.8153 - val_loss: 0.4822 - val_accuracy: 0.7778\n",
            "Epoch 52/100\n",
            "720/720 [==============================] - 0s 74us/step - loss: 0.3912 - accuracy: 0.8375 - val_loss: 0.4847 - val_accuracy: 0.7654\n",
            "Epoch 53/100\n",
            "720/720 [==============================] - 0s 79us/step - loss: 0.4176 - accuracy: 0.8264 - val_loss: 0.4800 - val_accuracy: 0.7778\n",
            "Epoch 54/100\n",
            "720/720 [==============================] - 0s 84us/step - loss: 0.3983 - accuracy: 0.8403 - val_loss: 0.4777 - val_accuracy: 0.7778\n",
            "Epoch 55/100\n",
            "720/720 [==============================] - 0s 74us/step - loss: 0.3905 - accuracy: 0.8403 - val_loss: 0.4814 - val_accuracy: 0.7778\n",
            "Epoch 56/100\n",
            "720/720 [==============================] - 0s 75us/step - loss: 0.4000 - accuracy: 0.8417 - val_loss: 0.4813 - val_accuracy: 0.8025\n",
            "Epoch 57/100\n",
            "720/720 [==============================] - 0s 81us/step - loss: 0.3998 - accuracy: 0.8278 - val_loss: 0.4812 - val_accuracy: 0.8025\n",
            "Epoch 58/100\n",
            "720/720 [==============================] - 0s 76us/step - loss: 0.3919 - accuracy: 0.8361 - val_loss: 0.4843 - val_accuracy: 0.8025\n",
            "Epoch 59/100\n",
            "720/720 [==============================] - 0s 74us/step - loss: 0.4101 - accuracy: 0.8236 - val_loss: 0.4821 - val_accuracy: 0.8025\n",
            "Epoch 60/100\n",
            "720/720 [==============================] - 0s 75us/step - loss: 0.3954 - accuracy: 0.8472 - val_loss: 0.4810 - val_accuracy: 0.8025\n",
            "Epoch 61/100\n",
            "720/720 [==============================] - 0s 73us/step - loss: 0.3943 - accuracy: 0.8264 - val_loss: 0.4797 - val_accuracy: 0.8025\n",
            "Epoch 62/100\n",
            "720/720 [==============================] - 0s 104us/step - loss: 0.4083 - accuracy: 0.8278 - val_loss: 0.4828 - val_accuracy: 0.7778\n",
            "Epoch 63/100\n",
            "720/720 [==============================] - 0s 83us/step - loss: 0.4120 - accuracy: 0.8278 - val_loss: 0.4813 - val_accuracy: 0.7778\n",
            "Epoch 64/100\n",
            "720/720 [==============================] - 0s 84us/step - loss: 0.3995 - accuracy: 0.8417 - val_loss: 0.4786 - val_accuracy: 0.7901\n",
            "Epoch 65/100\n",
            "720/720 [==============================] - 0s 85us/step - loss: 0.4034 - accuracy: 0.8306 - val_loss: 0.4752 - val_accuracy: 0.7778\n",
            "Epoch 66/100\n",
            "720/720 [==============================] - 0s 83us/step - loss: 0.4047 - accuracy: 0.8319 - val_loss: 0.4750 - val_accuracy: 0.7778\n",
            "Epoch 67/100\n",
            "720/720 [==============================] - 0s 83us/step - loss: 0.3967 - accuracy: 0.8347 - val_loss: 0.4761 - val_accuracy: 0.7778\n",
            "Epoch 68/100\n",
            "720/720 [==============================] - 0s 73us/step - loss: 0.4065 - accuracy: 0.8097 - val_loss: 0.4766 - val_accuracy: 0.7901\n",
            "Epoch 69/100\n",
            "720/720 [==============================] - 0s 73us/step - loss: 0.3964 - accuracy: 0.8347 - val_loss: 0.4756 - val_accuracy: 0.7901\n",
            "Epoch 70/100\n",
            "720/720 [==============================] - 0s 82us/step - loss: 0.3990 - accuracy: 0.8264 - val_loss: 0.4766 - val_accuracy: 0.7778\n",
            "Epoch 71/100\n",
            "720/720 [==============================] - 0s 76us/step - loss: 0.4030 - accuracy: 0.8403 - val_loss: 0.4792 - val_accuracy: 0.7778\n",
            "Epoch 72/100\n",
            "720/720 [==============================] - 0s 72us/step - loss: 0.3977 - accuracy: 0.8375 - val_loss: 0.4759 - val_accuracy: 0.7778\n",
            "Epoch 73/100\n",
            "720/720 [==============================] - 0s 75us/step - loss: 0.3878 - accuracy: 0.8361 - val_loss: 0.4739 - val_accuracy: 0.7778\n",
            "Epoch 74/100\n",
            "720/720 [==============================] - 0s 77us/step - loss: 0.3987 - accuracy: 0.8292 - val_loss: 0.4770 - val_accuracy: 0.7778\n",
            "Epoch 75/100\n",
            "720/720 [==============================] - 0s 76us/step - loss: 0.4010 - accuracy: 0.8417 - val_loss: 0.4787 - val_accuracy: 0.7778\n",
            "Epoch 76/100\n",
            "720/720 [==============================] - 0s 74us/step - loss: 0.3936 - accuracy: 0.8403 - val_loss: 0.4763 - val_accuracy: 0.8025\n",
            "Epoch 77/100\n",
            "720/720 [==============================] - 0s 73us/step - loss: 0.4119 - accuracy: 0.8403 - val_loss: 0.4741 - val_accuracy: 0.7778\n",
            "Epoch 78/100\n",
            "720/720 [==============================] - 0s 75us/step - loss: 0.3990 - accuracy: 0.8389 - val_loss: 0.4724 - val_accuracy: 0.7778\n",
            "Epoch 79/100\n",
            "720/720 [==============================] - 0s 72us/step - loss: 0.3751 - accuracy: 0.8389 - val_loss: 0.4722 - val_accuracy: 0.7778\n",
            "Epoch 80/100\n",
            "720/720 [==============================] - 0s 74us/step - loss: 0.3840 - accuracy: 0.8403 - val_loss: 0.4722 - val_accuracy: 0.7778\n",
            "Epoch 81/100\n",
            "720/720 [==============================] - 0s 74us/step - loss: 0.3876 - accuracy: 0.8444 - val_loss: 0.4756 - val_accuracy: 0.7778\n",
            "Epoch 82/100\n",
            "720/720 [==============================] - 0s 76us/step - loss: 0.3966 - accuracy: 0.8319 - val_loss: 0.4752 - val_accuracy: 0.7778\n",
            "Epoch 83/100\n",
            "720/720 [==============================] - 0s 88us/step - loss: 0.3961 - accuracy: 0.8306 - val_loss: 0.4716 - val_accuracy: 0.7778\n",
            "Epoch 84/100\n",
            "720/720 [==============================] - 0s 76us/step - loss: 0.3958 - accuracy: 0.8347 - val_loss: 0.4712 - val_accuracy: 0.7778\n",
            "Epoch 85/100\n",
            "720/720 [==============================] - 0s 75us/step - loss: 0.4028 - accuracy: 0.8389 - val_loss: 0.4711 - val_accuracy: 0.7778\n",
            "Epoch 86/100\n",
            "720/720 [==============================] - 0s 77us/step - loss: 0.4052 - accuracy: 0.8319 - val_loss: 0.4681 - val_accuracy: 0.7778\n",
            "Epoch 87/100\n",
            "720/720 [==============================] - 0s 82us/step - loss: 0.3842 - accuracy: 0.8403 - val_loss: 0.4639 - val_accuracy: 0.7778\n",
            "Epoch 88/100\n",
            "720/720 [==============================] - 0s 83us/step - loss: 0.3946 - accuracy: 0.8319 - val_loss: 0.4671 - val_accuracy: 0.7778\n",
            "Epoch 89/100\n",
            "720/720 [==============================] - 0s 73us/step - loss: 0.3885 - accuracy: 0.8375 - val_loss: 0.4734 - val_accuracy: 0.7778\n",
            "Epoch 90/100\n",
            "720/720 [==============================] - 0s 72us/step - loss: 0.3841 - accuracy: 0.8500 - val_loss: 0.4797 - val_accuracy: 0.7778\n",
            "Epoch 91/100\n",
            "720/720 [==============================] - 0s 74us/step - loss: 0.3802 - accuracy: 0.8347 - val_loss: 0.4752 - val_accuracy: 0.7778\n",
            "Epoch 92/100\n",
            "720/720 [==============================] - 0s 75us/step - loss: 0.4063 - accuracy: 0.8347 - val_loss: 0.4694 - val_accuracy: 0.7778\n",
            "Epoch 93/100\n",
            "720/720 [==============================] - 0s 76us/step - loss: 0.3965 - accuracy: 0.8250 - val_loss: 0.4629 - val_accuracy: 0.7778\n",
            "Epoch 94/100\n",
            "720/720 [==============================] - 0s 76us/step - loss: 0.3878 - accuracy: 0.8347 - val_loss: 0.4597 - val_accuracy: 0.7778\n",
            "Epoch 95/100\n",
            "720/720 [==============================] - 0s 78us/step - loss: 0.3811 - accuracy: 0.8389 - val_loss: 0.4593 - val_accuracy: 0.7778\n",
            "Epoch 96/100\n",
            "720/720 [==============================] - 0s 78us/step - loss: 0.3865 - accuracy: 0.8417 - val_loss: 0.4626 - val_accuracy: 0.7778\n",
            "Epoch 97/100\n",
            "720/720 [==============================] - 0s 73us/step - loss: 0.3841 - accuracy: 0.8458 - val_loss: 0.4634 - val_accuracy: 0.7778\n",
            "Epoch 98/100\n",
            "720/720 [==============================] - 0s 75us/step - loss: 0.3905 - accuracy: 0.8486 - val_loss: 0.4675 - val_accuracy: 0.7778\n",
            "Epoch 99/100\n",
            "720/720 [==============================] - 0s 73us/step - loss: 0.3846 - accuracy: 0.8444 - val_loss: 0.4684 - val_accuracy: 0.7778\n",
            "Epoch 100/100\n",
            "720/720 [==============================] - 0s 87us/step - loss: 0.3802 - accuracy: 0.8403 - val_loss: 0.4658 - val_accuracy: 0.7778\n"
          ],
          "name": "stdout"
        },
        {
          "output_type": "execute_result",
          "data": {
            "text/plain": [
              "<keras.callbacks.callbacks.History at 0x7f8822a355c0>"
            ]
          },
          "metadata": {
            "tags": []
          },
          "execution_count": 80
        }
      ]
    },
    {
      "cell_type": "code",
      "metadata": {
        "id": "kEC-DurzAlOs",
        "colab_type": "code",
        "colab": {
          "base_uri": "https://localhost:8080/",
          "height": 265
        },
        "outputId": "f1f3630a-7fac-497b-9485-b3808375412b"
      },
      "source": [
        "pd.DataFrame(classifier.history.history).plot()\n",
        "plt.show()"
      ],
      "execution_count": 81,
      "outputs": [
        {
          "output_type": "display_data",
          "data": {
            "image/png": "[encoded data removed]",
            "text/plain": [
              "<Figure size 432x288 with 1 Axes>"
            ]
          },
          "metadata": {
            "tags": [],
            "needs_background": "light"
          }
        }
      ]
    },
    {
      "cell_type": "code",
      "metadata": {
        "id": "n2c_7_toAlLh",
        "colab_type": "code",
        "colab": {
          "base_uri": "https://localhost:8080/",
          "height": 50
        },
        "outputId": "1263e120-02d9-4d2e-c58a-f316123157e8"
      },
      "source": [
        "classifier.evaluate(X_test, y_test)"
      ],
      "execution_count": 82,
      "outputs": [
        {
          "output_type": "stream",
          "text": [
            "90/90 [==============================] - 0s 119us/step\n"
          ],
          "name": "stdout"
        },
        {
          "output_type": "execute_result",
          "data": {
            "text/plain": [
              "[0.4715880115826925, 0.8333333134651184]"
            ]
          },
          "metadata": {
            "tags": []
          },
          "execution_count": 82
        }
      ]
    },
    {
      "cell_type": "code",
      "metadata": {
        "id": "mR18XslLAlIs",
        "colab_type": "code",
        "colab": {
          "base_uri": "https://localhost:8080/",
          "height": 185
        },
        "outputId": "65a94a50-2d19-4734-e0c5-dbf2bac62093"
      },
      "source": [
        "y_pred = classifier.predict(X_test)\n",
        "y_pred = y_pred >= 0.5\n",
        "y_pred[:10]"
      ],
      "execution_count": 83,
      "outputs": [
        {
          "output_type": "execute_result",
          "data": {
            "text/plain": [
              "array([[False],\n",
              "       [False],\n",
              "       [ True],\n",
              "       [False],\n",
              "       [ True],\n",
              "       [ True],\n",
              "       [False],\n",
              "       [False],\n",
              "       [False],\n",
              "       [False]])"
            ]
          },
          "metadata": {
            "tags": []
          },
          "execution_count": 83
        }
      ]
    },
    {
      "cell_type": "code",
      "metadata": {
        "id": "dFkVpfevAlGm",
        "colab_type": "code",
        "colab": {}
      },
      "source": [
        "from sklearn.metrics import confusion_matrix"
      ],
      "execution_count": 0,
      "outputs": []
    },
    {
      "cell_type": "code",
      "metadata": {
        "id": "ZVIVu4YIAlDd",
        "colab_type": "code",
        "colab": {
          "base_uri": "https://localhost:8080/",
          "height": 50
        },
        "outputId": "a3267244-d44f-4256-cf7c-91825d217bc7"
      },
      "source": [
        "print(confusion_matrix(y_pred, y_test))"
      ],
      "execution_count": 85,
      "outputs": [
        {
          "output_type": "stream",
          "text": [
            "[[54 10]\n",
            " [ 5 21]]\n"
          ],
          "name": "stdout"
        }
      ]
    },
    {
      "cell_type": "code",
      "metadata": {
        "id": "wkGFxG24AlA1",
        "colab_type": "code",
        "colab": {
          "base_uri": "https://localhost:8080/",
          "height": 34
        },
        "outputId": "77465da4-15cd-41cf-e8f0-b3085a8bbd3c"
      },
      "source": [
        "(54+21)/y_test.shape[0]"
      ],
      "execution_count": 91,
      "outputs": [
        {
          "output_type": "execute_result",
          "data": {
            "text/plain": [
              "0.8333333333333334"
            ]
          },
          "metadata": {
            "tags": []
          },
          "execution_count": 91
        }
      ]
    }
  ]
}